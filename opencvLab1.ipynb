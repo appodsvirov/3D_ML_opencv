{
  "nbformat": 4,
  "nbformat_minor": 0,
  "metadata": {
    "colab": {
      "provenance": []
    },
    "kernelspec": {
      "name": "python3",
      "display_name": "Python 3"
    },
    "language_info": {
      "name": "python"
    }
  },
  "cells": [
    {
      "cell_type": "markdown",
      "source": [
        "Задание 1: Написать свой скрипт, который переводит изображение из формата BGR в RGB (аналог библиотечной функции cv.cvtColor(img_bgr, cv.COLOR_BGR2RGB)). Для проверки используйте изображение starry_night.jpg\n",
        "\n",
        "Задание 2: Написать скрипт, который меняет местами луну и голубую воронку (в самом центре) на изображении starry_night.jpg.\n",
        "\n",
        "Задание 3: Попробуйте превратить \"starry_night\" в \"starry_day\" путем увеличения яркости изображения и смены темно-синих тонов на светло-желтые. Как это сделать? См. подсказку по смешиванию RGB цветов в файле color_blending.gif. Замечание: при проведении экспериментов с матрицами каналов, обратите внимание на dtype этих матриц (стандартный тип uint8 не позволит вам выйти за границы диапазона 0 .. 255, и поэтому может быть причиной появления не тех результатов, которые вы ожидаете, поэтому перед проведением операций целесообразно этот тип сменить на более подходящий)."
      ],
      "metadata": {
        "id": "aO3wjnZE9pYq"
      }
    },
    {
      "cell_type": "code",
      "source": [
        "import sys\n",
        "import cv2\n",
        "import matplotlib.pyplot as plt"
      ],
      "metadata": {
        "id": "0cOoyLsiVgK-"
      },
      "execution_count": null,
      "outputs": []
    },
    {
      "cell_type": "code",
      "source": [
        "# Загрузка изображения\n",
        "image = cv2.imread('starry_night.jpg')\n",
        "\n",
        "# Получение размера и каналов цвета изображения\n",
        "height, width, channels = image.shape\n",
        "\n",
        "# Перебор каждого пикселя изображения и перевод из BGR в RGB\n",
        "for y in range(height):\n",
        "    for x in range(width):\n",
        "        # Получение значения пикселя\n",
        "        b, g, r = image[y, x]\n",
        "\n",
        "        # Перестановка значений каналов B и R\n",
        "        image[y, x] = (r, g, b)\n",
        "\n",
        "# Сохранение обработанного изображения\n",
        "cv2.imwrite('starry_night_rgb.jpg', image)"
      ],
      "metadata": {
        "colab": {
          "base_uri": "https://localhost:8080/"
        },
        "id": "FUe-NtFfp3VQ",
        "outputId": "f6131bab-1a43-4182-cf0c-fc2790dd7679"
      },
      "execution_count": null,
      "outputs": [
        {
          "output_type": "execute_result",
          "data": {
            "text/plain": [
              "True"
            ]
          },
          "metadata": {},
          "execution_count": 15
        }
      ]
    },
    {
      "cell_type": "code",
      "source": [
        "# Загрузка изображения\n",
        "image = cv2.imread('starry_night.jpg')\n",
        "new = cv2.imread('starry_night.jpg')\n",
        "# Определение координат пикселей голубой воронки и луны\n",
        "center_blue_cone = [200, 380]\n",
        "center_moon = [115, 656]\n",
        "radius = 75\n",
        "blue_cone_pixel = image[center_blue_cone[0]-radius : center_blue_cone[0]+radius,\n",
        "                        center_blue_cone[1]-radius : center_blue_cone[1]+radius]\n",
        "moon_pixel = image[center_moon[0]-radius : center_moon[0]+radius,\n",
        "                  center_moon[1]-radius : center_moon[1]+radius]\n",
        "\n",
        "# Меняем местами значения пикселей голубой воронки и луны\n",
        "new[center_blue_cone[0]-radius : center_blue_cone[0]+radius,\n",
        "    center_blue_cone[1]-radius : center_blue_cone[1]+radius] = moon_pixel\n",
        "\n",
        "new[center_moon[0]-radius : center_moon[0]+radius,\n",
        "                        center_moon[1]-radius : center_moon[1]+radius] = blue_cone_pixel\n",
        "# Сохранение обработанного изображения\n",
        "cv2.imwrite('starry_night_swapped.jpg', new)"
      ],
      "metadata": {
        "colab": {
          "base_uri": "https://localhost:8080/"
        },
        "id": "vcj7HIp5qUzf",
        "outputId": "344f7071-7dd3-4c72-baaa-14cfbe45cd44"
      },
      "execution_count": null,
      "outputs": [
        {
          "output_type": "execute_result",
          "data": {
            "text/plain": [
              "True"
            ]
          },
          "metadata": {},
          "execution_count": 37
        }
      ]
    },
    {
      "cell_type": "code",
      "source": [
        "import cv2\n",
        "import numpy as np\n",
        "\n",
        "img_bgr = cv2.imread('starry_night.jpg')\n",
        "\n",
        "# Увеличение яркости изображения\n",
        "img_bright = cv2.convertScaleAbs(img_bgr, alpha=2, beta=2)\n",
        "\n",
        "# темно-синии -> светло-желтые\n",
        "img_yellow = np.zeros_like(img_bright)\n",
        "img_yellow[..., 0] = 0\n",
        "img_yellow[..., 1] = 255\n",
        "img_yellow[..., 2] = 255\n",
        "\n",
        "# Смешивание яркости и цветовых тонов\n",
        "blended_img = cv2.addWeighted(img_bright, 0.8, img_yellow, 0.2, 0)\n",
        "\n",
        "cv2.imwrite('starry_day.jpg', blended_img)\n",
        "#cv2.imwrite('img_yellow.jpg', img_yellow)\n"
      ],
      "metadata": {
        "id": "8dpemOZCYKuc",
        "colab": {
          "base_uri": "https://localhost:8080/"
        },
        "outputId": "bc64d66f-b0ec-4c6d-ec66-e093842ff685"
      },
      "execution_count": null,
      "outputs": [
        {
          "output_type": "execute_result",
          "data": {
            "text/plain": [
              "True"
            ]
          },
          "metadata": {},
          "execution_count": 38
        }
      ]
    }
  ]
}