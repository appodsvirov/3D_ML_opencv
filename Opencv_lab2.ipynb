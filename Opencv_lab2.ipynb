{
  "nbformat": 4,
  "nbformat_minor": 0,
  "metadata": {
    "colab": {
      "provenance": [],
      "authorship_tag": "ABX9TyPIJsIqBEsjPXlOOiMA6iMO",
      "include_colab_link": true
    },
    "kernelspec": {
      "name": "python3",
      "display_name": "Python 3"
    },
    "language_info": {
      "name": "python"
    }
  },
  "cells": [
    {
      "cell_type": "markdown",
      "metadata": {
        "id": "view-in-github",
        "colab_type": "text"
      },
      "source": [
        "<a href=\"https://colab.research.google.com/github/appodsvirov/3D_ML_opencv/blob/main/Opencv_lab2.ipynb\" target=\"_parent\"><img src=\"https://colab.research.google.com/assets/colab-badge.svg\" alt=\"Open In Colab\"/></a>"
      ]
    },
    {
      "cell_type": "markdown",
      "source": [
        "Задание 1: работа с цветовым пространством HSV.\n",
        "На практике познакомились с преимуществами использования пространства HSV.\n",
        "Если кратко, то с помощью этой модели легче описывать цвет, который мы хотим получить.\n",
        "Поскольку здесь мы оперируем понятиями H = Hue = оттенок, S = Saturation = насыщенность, V = Value = яркость.\n",
        "Используя модель HSV попробуйте еще раз выполнить задание по превращению \"starry_night\" в \"starry_day\" (из дз №1)\n",
        "\n",
        "Задание 2: На занятии мы разобрали несколько подходов для того, чтобы \"размыть\" изображение.\n",
        " Для этого мы использовали фильтры, представленные различными матрицами (ядрами).\n",
        "Вопрос - как нам решить обратную задачу? Т.е., имея размытое изображение, как сделать его более четким?\n",
        "Попробуйте подобрать матрицу, которая может это сделать."
      ],
      "metadata": {
        "id": "syvnCN2fsnnx"
      }
    },
    {
      "cell_type": "code",
      "execution_count": null,
      "metadata": {
        "id": "WQmDs0xfdGoS"
      },
      "outputs": [],
      "source": [
        "import sys\n",
        "import cv2\n",
        "import matplotlib.pyplot as plt\n",
        "import numpy as np"
      ]
    },
    {
      "cell_type": "code",
      "source": [
        "# Загрузка изображения\n",
        "image = cv2.imread('starry_night.jpg')"
      ],
      "metadata": {
        "id": "yPozn9JydXMy"
      },
      "execution_count": 11,
      "outputs": []
    },
    {
      "cell_type": "code",
      "source": [
        "image_HCV = cv2.cvtColor(image, cv2.COLOR_BGR2HSV)\n",
        "\n",
        "lower_blue = np.array([110, 50, 50])\n",
        "upper_blue = np.array([130, 255, 255])\n",
        "\n",
        "blue_mask = cv2.inRange(image_HCV, lower_blue, upper_blue)\n",
        "\n",
        "image_HCV[np.where(blue_mask == 255)] = np.array([30, 240, 230])\n",
        "\n",
        "new_image = cv2.cvtColor(image_HCV, cv2.COLOR_HSV2BGR)\n",
        "\n",
        "cv2.imwrite('starry_day.jpg', new_image)"
      ],
      "metadata": {
        "colab": {
          "base_uri": "https://localhost:8080/"
        },
        "id": "MAv9ZZKsg5xS",
        "outputId": "7c2bf9fc-0f85-4e54-db14-3091af96b76e"
      },
      "execution_count": 27,
      "outputs": [
        {
          "output_type": "execute_result",
          "data": {
            "text/plain": [
              "True"
            ]
          },
          "metadata": {},
          "execution_count": 27
        }
      ]
    },
    {
      "cell_type": "code",
      "source": [
        "image_blur = cv2.blur(image, (5, 5))\n",
        "sharpening_filter = np.array([[-1,-1,-1],[-1,9,-1],[-1,-1,-1]])\n",
        "sharpened_image = cv2.filter2D(image_blur, -1, sharpening_filter)\n",
        "cv2.imwrite('starry_blur.jpg', image_blur)\n",
        "cv2.imwrite('sharpened_image.jpg', sharpened_image)"
      ],
      "metadata": {
        "colab": {
          "base_uri": "https://localhost:8080/"
        },
        "id": "6yJ0a9a9qweb",
        "outputId": "83571d0d-f9bf-4e58-b925-4731aa095cfe"
      },
      "execution_count": 15,
      "outputs": [
        {
          "output_type": "execute_result",
          "data": {
            "text/plain": [
              "True"
            ]
          },
          "metadata": {},
          "execution_count": 15
        }
      ]
    }
  ]
}